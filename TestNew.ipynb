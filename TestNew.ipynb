{
 "cells": [
  {
   "cell_type": "code",
   "execution_count": 1,
   "id": "b282fbe4",
   "metadata": {
    "execution": {
     "iopub.execute_input": "2023-02-28T09:31:42.358867Z",
     "iopub.status.busy": "2023-02-28T09:31:42.358867Z",
     "iopub.status.idle": "2023-02-28T09:31:45.039710Z",
     "shell.execute_reply": "2023-02-28T09:31:45.038710Z"
    }
   },
   "outputs": [],
   "source": [
    "from ibm_quantum_widgets import *"
   ]
  },
  {
   "cell_type": "code",
   "execution_count": 2,
   "id": "1d9b26ac",
   "metadata": {
    "execution": {
     "iopub.execute_input": "2023-02-28T09:31:45.043708Z",
     "iopub.status.busy": "2023-02-28T09:31:45.042794Z",
     "iopub.status.idle": "2023-02-28T09:31:45.053912Z",
     "shell.execute_reply": "2023-02-28T09:31:45.053912Z"
    }
   },
   "outputs": [
    {
     "data": {
      "application/vnd.jupyter.widget-view+json": {
       "model_id": "a2370c645d2a44e3bf420128d9fb8c5c",
       "version_major": 2,
       "version_minor": 0
      },
      "text/plain": [
       "CircuitComposer(circuit=<qiskit.circuit.quantumcircuit.QuantumCircuit object at 0x0000022F2E784630>)"
      ]
     },
     "metadata": {},
     "output_type": "display_data"
    }
   ],
   "source": [
    "CircuitComposer()\n"
   ]
  },
  {
   "cell_type": "code",
   "execution_count": null,
   "id": "b4630670",
   "metadata": {},
   "outputs": [],
   "source": [
    "# This code is being generated automatically by the IBM Quantum Circuit Composer widget.\n",
    "# It changes in every update of the widget, so any modifications done in this cell will be lost.\n",
    "# State: synchronized\n",
    "\n",
    "from qiskit import QuantumRegister, ClassicalRegister, QuantumCircuit\n",
    "from numpy import pi\n",
    "\n",
    "qreg_q = QuantumRegister(3, 'q')\n",
    "creg_c = ClassicalRegister(3, 'c')\n",
    "circuit = QuantumCircuit(qreg_q, creg_c)\n",
    "\n",
    "circuit.rzz(pi/2, qreg_q[1], qreg_q[2])\n",
    "circuit.s(qreg_q[1])"
   ]
  },
  {
   "cell_type": "code",
   "execution_count": 13,
   "id": "470c17c0",
   "metadata": {},
   "outputs": [
    {
     "data": {
      "application/vnd.jupyter.widget-view+json": {
       "model_id": "ccffacf587a04a51913d2f8689b57243",
       "version_major": 2,
       "version_minor": 0
      },
      "text/plain": [
       "CircuitComposer(circuit=<qiskit.circuit.quantumcircuit.QuantumCircuit object at 0x00000214169EEEB8>)"
      ]
     },
     "metadata": {},
     "output_type": "display_data"
    }
   ],
   "source": [
    "# This code is being generated automatically by the IBM Quantum Circuit Composer widget.\n",
    "# It changes in every update of the widget, so any modifications done in this cell will be lost.\n",
    "# State: synchronized\n",
    "\n",
    "from qiskit import QuantumRegister, ClassicalRegister, QuantumCircuit \n",
    "from numpy import pi\n",
    "from ibm_quantum_widgets import draw_circuit\n",
    "\n",
    "\n",
    "qreg_q = QuantumRegister(3, 'q')\n",
    "creg_c = ClassicalRegister(3, 'c')\n",
    "circuit = QuantumCircuit(qreg_q, creg_c)\n",
    "\n",
    "circuit.sxdg(qreg_q[0])\n",
    "circuit.x(qreg_q[1])\n",
    "circuit.t(qreg_q[0])\n",
    "circuit.swap(qreg_q[1], qreg_q[2])\n",
    "circuit.ccz(qreg_q[2], qreg_q[0], qreg_q[0])\n",
    "\n",
    "print(circuit)"
   ]
  },
  {
   "cell_type": "code",
   "execution_count": 3,
   "id": "f956be4c",
   "metadata": {
    "execution": {
     "iopub.execute_input": "2023-02-28T09:31:45.060664Z",
     "iopub.status.busy": "2023-02-28T09:31:45.059658Z",
     "iopub.status.idle": "2023-02-28T09:31:45.086504Z",
     "shell.execute_reply": "2023-02-28T09:31:45.085432Z"
    }
   },
   "outputs": [
    {
     "data": {
      "text/plain": [
       "<qiskit.circuit.instructionset.InstructionSet at 0x2476bed97b8>"
      ]
     },
     "execution_count": 3,
     "metadata": {},
     "output_type": "execute_result"
    }
   ],
   "source": [
    "# This code is being generated automatically by the IBM Quantum Circuit Composer widget.\n",
    "# It changes in every update of the widget, so any modifications done in this cell will be lost.\n",
    "# State: synchronized\n",
    "\n",
    "from qiskit import QuantumRegister, ClassicalRegister, QuantumCircuit\n",
    "from numpy import pi\n",
    "\n",
    "qreg_q = QuantumRegister(3, 'q')\n",
    "creg_c = ClassicalRegister(3, 'c')\n",
    "circuit = QuantumCircuit(qreg_q, creg_c)\n",
    "\n",
    "circuit.sxdg(qreg_q[0])\n",
    "circuit.x(qreg_q[1])\n",
    "circuit.t(qreg_q[0])\n",
    "circuit.swap(qreg_q[1], qreg_q[2])\n",
    "circuit.s(qreg_q[2])\n",
    "circuit.h(qreg_q[0])"
   ]
  },
  {
   "cell_type": "code",
   "execution_count": 4,
   "id": "7f88da85",
   "metadata": {
    "execution": {
     "iopub.execute_input": "2023-02-28T09:31:45.092355Z",
     "iopub.status.busy": "2023-02-28T09:31:45.091356Z",
     "iopub.status.idle": "2023-02-28T09:31:45.116503Z",
     "shell.execute_reply": "2023-02-28T09:31:45.116503Z"
    }
   },
   "outputs": [
    {
     "data": {
      "text/plain": [
       "<qiskit.circuit.instructionset.InstructionSet at 0x2476bed9d30>"
      ]
     },
     "execution_count": 4,
     "metadata": {},
     "output_type": "execute_result"
    }
   ],
   "source": [
    "# This code is being generated automatically by the IBM Quantum Circuit Composer widget.\n",
    "# It changes in every update of the widget, so any modifications done in this cell will be lost.\n",
    "# State: synchronized\n",
    "\n",
    "from qiskit import QuantumRegister, ClassicalRegister, QuantumCircuit\n",
    "from numpy import pi\n",
    "\n",
    "qreg_q = QuantumRegister(4, 'q')\n",
    "creg_c = ClassicalRegister(4, 'c')\n",
    "circuit = QuantumCircuit(qreg_q, creg_c)\n",
    "\n",
    "circuit.t(qreg_q[0])\n",
    "circuit.y(qreg_q[2])\n",
    "circuit.h(qreg_q[3])\n",
    "circuit.rxx(pi/2, qreg_q[1], qreg_q[2])\n",
    "circuit.rzz(pi/2, qreg_q[1], qreg_q[2])\n",
    "circuit.s(qreg_q[1])\n",
    "circuit.h(qreg_q[2])\n",
    "circuit.y(qreg_q[0])\n",
    "circuit.h(qreg_q[4])\n",
    "circuit.x(qreg_q[2])\n"
   ]
  },
  {
   "cell_type": "code",
   "execution_count": 5,
   "id": "d93626e7",
   "metadata": {
    "execution": {
     "iopub.execute_input": "2023-02-28T09:31:45.123214Z",
     "iopub.status.busy": "2023-02-28T09:31:45.122145Z",
     "iopub.status.idle": "2023-02-28T09:31:45.134097Z",
     "shell.execute_reply": "2023-02-28T09:31:45.132084Z"
    }
   },
   "outputs": [
    {
     "data": {
      "text/plain": [
       "<qiskit.circuit.instructionset.InstructionSet at 0x2476bed92e8>"
      ]
     },
     "execution_count": 5,
     "metadata": {},
     "output_type": "execute_result"
    }
   ],
   "source": [
    "# This code is being generated automatically by the IBM Quantum Circuit Composer widget.\n",
    "# It changes in every update of the widget, so any modifications done in this cell will be lost.\n",
    "# State: synchronized\n",
    "\n",
    "from qiskit import QuantumRegister, ClassicalRegister, QuantumCircuit\n",
    "from numpy import pi\n",
    "\n",
    "qreg_q = QuantumRegister(3, 'q')\n",
    "creg_c = ClassicalRegister(3, 'c')\n",
    "circuit = QuantumCircuit(qreg_q, creg_c)\n",
    "\n",
    "circuit.p(pi/2, qreg_q[1])\n",
    "circuit.h(qreg_q[1])\n",
    "circuit.rzz(pi/2, qreg_q[1], qreg_q[2])"
   ]
  },
  {
   "cell_type": "code",
   "execution_count": 6,
   "id": "d6d9a4b7",
   "metadata": {
    "execution": {
     "iopub.execute_input": "2023-02-28T09:31:45.139976Z",
     "iopub.status.busy": "2023-02-28T09:31:45.138959Z",
     "iopub.status.idle": "2023-02-28T09:31:45.148968Z",
     "shell.execute_reply": "2023-02-28T09:31:45.147953Z"
    }
   },
   "outputs": [],
   "source": [
    "# This code is being generated automatically by the IBM Quantum Circuit Composer widget.\n",
    "# It changes in every update of the widget, so any modifications done in this cell will be lost.\n",
    "# State: synchronized\n",
    "\n",
    "from qiskit import QuantumRegister, ClassicalRegister, QuantumCircuit\n",
    "from numpy import pi\n",
    "\n",
    "qreg_q = QuantumRegister(3, 'q')\n",
    "creg_c = ClassicalRegister(3, 'c')\n",
    "circuit = QuantumCircuit(qreg_q, creg_c)"
   ]
  },
  {
   "cell_type": "code",
   "execution_count": 7,
   "id": "5f691ca2",
   "metadata": {
    "execution": {
     "iopub.execute_input": "2023-02-28T09:31:45.151044Z",
     "iopub.status.busy": "2023-02-28T09:31:45.151044Z",
     "iopub.status.idle": "2023-02-28T09:31:45.182727Z",
     "shell.execute_reply": "2023-02-28T09:31:45.180720Z"
    }
   },
   "outputs": [
    {
     "data": {
      "application/vnd.jupyter.widget-view+json": {
       "model_id": "7cdd7fa21f1f40cd811ca846078cb709",
       "version_major": 2,
       "version_minor": 0
      },
      "text/plain": [
       "CircuitComposer(circuit=<qiskit.circuit.quantumcircuit.QuantumCircuit object at 0x000002476BED9EF0>)"
      ]
     },
     "metadata": {},
     "output_type": "display_data"
    }
   ],
   "source": [
    "# This code is being generated automatically by the IBM Quantum Circuit Composer widget.\n",
    "# It changes in every update of the widget, so any modifications done in this cell will be lost.\n",
    "# State: synchronized\n",
    "\n",
    "from qiskit import QuantumRegister, ClassicalRegister, QuantumCircuit\n",
    "from numpy import pi\n",
    "\n",
    "qreg_q = QuantumRegister(3, 'q')\n",
    "creg_c = ClassicalRegister(3, 'c')\n",
    "circuit = QuantumCircuit(qreg_q, creg_c)\n",
    "\n",
    "circuit.s(qreg_q[0])\n",
    "circuit.h(qreg_q[1])\n",
    "circuit.cx(qreg_q[1], qreg_q[2])\n",
    "circuit.h(qreg_q[2])\n",
    "circuit.rzz(pi/2, qreg_q[0], qreg_q[2])\n",
    "draw_circuit(circuit)"
   ]
  },
  {
   "cell_type": "code",
   "execution_count": 8,
   "id": "dbacf8c6",
   "metadata": {
    "execution": {
     "iopub.execute_input": "2023-02-28T09:31:45.186726Z",
     "iopub.status.busy": "2023-02-28T09:31:45.185725Z",
     "iopub.status.idle": "2023-02-28T09:31:48.842988Z",
     "shell.execute_reply": "2023-02-28T09:31:48.840654Z"
    }
   },
   "outputs": [
    {
     "name": "stdout",
     "output_type": "stream",
     "text": [
      "Name: ibm-quantum-widgets\n",
      "Version: 1.0.3\n",
      "Summary: IBM Quantum widgets for Jupyter\n",
      "Home-page: https://quantum-computing.ibm.com\n",
      "Author: IBM Research\n",
      "Author-email: info@ibm.com\n",
      "License: Proprietary\n",
      "Location: c:\\users\\dhruv-msi\\appdata\\local\\programs\\python\\python37\\lib\\site-packages\n",
      "Requires: ipywidgets, qiskit\n",
      "Required-by: \n"
     ]
    }
   ],
   "source": [
    "!pip show ibm_quantum_widgets"
   ]
  }
 ],
 "metadata": {
  "kernelspec": {
   "display_name": "Python 3 (ipykernel)",
   "language": "python",
   "name": "python3"
  },
  "language_info": {
   "codemirror_mode": {
    "name": "ipython",
    "version": 3
   },
   "file_extension": ".py",
   "mimetype": "text/x-python",
   "name": "python",
   "nbconvert_exporter": "python",
   "pygments_lexer": "ipython3",
   "version": "3.7.2"
  },
  "widgets": {
   "application/vnd.jupyter.widget-state+json": {
    "state": {
     "0013496a95254d018d1afe6e2c44c961": {
      "model_module": "@quantum/ibm-q-lab-widgets",
      "model_module_version": "^1.0.3",
      "model_name": "CircuitComposerModel",
      "state": {
       "_model_module_version": "^1.0.3",
       "_view_module_version": "^1.0.3",
       "circuit": "\"OPENQASM 2.0;\\ninclude \\\"qelib1.inc\\\";\\n\\nqreg q[3];\\ncreg c[3];\\n\\n\"",
       "editable": true,
       "layout": "IPY_MODEL_c99f25d88e544620be074cf2c08c851b",
       "qiskit_code_cell_index": -1
      }
     },
     "14efee60c0e44584933d25b81d07763a": {
      "model_module": "@jupyter-widgets/base",
      "model_module_version": "1.2.0",
      "model_name": "LayoutModel",
      "state": {}
     },
     "387f9c237dd44c3c9b1ac3e4bd2e1c87": {
      "model_module": "@jupyter-widgets/base",
      "model_module_version": "1.2.0",
      "model_name": "LayoutModel",
      "state": {}
     },
     "3e2ee3dfc2e24e178a84a470faa1a1b6": {
      "model_module": "@jupyter-widgets/base",
      "model_module_version": "1.2.0",
      "model_name": "LayoutModel",
      "state": {}
     },
     "7cdd7fa21f1f40cd811ca846078cb709": {
      "model_module": "@quantum/ibm-q-lab-widgets",
      "model_module_version": "^1.0.3",
      "model_name": "CircuitComposerModel",
      "state": {
       "_model_module_version": "^1.0.3",
       "_view_module_version": "^1.0.3",
       "circuit": "\"OPENQASM 2.0;\\ninclude \\\"qelib1.inc\\\";\\n\\nqreg q[3];\\ncreg c[3];\\n\\ns q[0];\\nh q[1];\\ncx q[1],q[2];\\nh q[2];\\nrzz(pi/2) q[0],q[2];\"",
       "editable": true,
       "layout": "IPY_MODEL_14efee60c0e44584933d25b81d07763a",
       "qiskit_code_cell_index": -1
      }
     },
     "882f2d45f9b6447ba3b7ede08cfa4430": {
      "model_module": "@jupyter-widgets/base",
      "model_module_version": "1.2.0",
      "model_name": "LayoutModel",
      "state": {}
     },
     "97feacf7943445958e51757d6e21a1ab": {
      "model_module": "@jupyter-widgets/base",
      "model_module_version": "1.2.0",
      "model_name": "LayoutModel",
      "state": {}
     },
     "a2370c645d2a44e3bf420128d9fb8c5c": {
      "model_module": "@quantum/ibm-q-lab-widgets",
      "model_module_version": "^1.0.3",
      "model_name": "CircuitComposerModel",
      "state": {
       "_model_module_version": "^1.0.3",
       "_view_module_version": "^1.0.3",
       "circuit": "\"OPENQASM 2.0;\\ninclude \\\"qelib1.inc\\\";\\n\\nqreg q[3];\\ncreg c[3];\\n\\n\"",
       "editable": true,
       "layout": "IPY_MODEL_387f9c237dd44c3c9b1ac3e4bd2e1c87",
       "qiskit_code_cell_index": -1
      }
     },
     "aae321a6862e4ce6aeb32ccbbd079bc3": {
      "model_module": "@quantum/ibm-q-lab-widgets",
      "model_module_version": "^1.0.3",
      "model_name": "CircuitComposerModel",
      "state": {
       "_model_module_version": "^1.0.3",
       "_view_module_version": "^1.0.3",
       "circuit": "\"OPENQASM 2.0;\\ninclude \\\"qelib1.inc\\\";\\n\\nqreg q[3];\\ncreg c[3];\\n\\nsxdg q[0];\\nx q[1];\\nt q[0];\\nh q[0];\\nswap q[1],q[2];\"",
       "editable": true,
       "layout": "IPY_MODEL_882f2d45f9b6447ba3b7ede08cfa4430",
       "qiskit_code_cell_index": -1
      }
     },
     "b5d0338d2c7543daa19d5d68016f6296": {
      "model_module": "@quantum/ibm-q-lab-widgets",
      "model_module_version": "^1.0.3",
      "model_name": "CircuitComposerModel",
      "state": {
       "_model_module_version": "^1.0.3",
       "_view_module_version": "^1.0.3",
       "circuit": "\"OPENQASM 2.0;\\ninclude \\\"qelib1.inc\\\";\\n\\nqreg q[3];\\ncreg c[3];\\n\\nsxdg q[0];\\nx q[1];\\nt q[0];\\nswap q[1],q[2];\\ncz q[2],q[0];\"",
       "editable": true,
       "layout": "IPY_MODEL_f13a1decea7b437ead34ec2a9e99026f",
       "qiskit_code_cell_index": 2
      }
     },
     "c99f25d88e544620be074cf2c08c851b": {
      "model_module": "@jupyter-widgets/base",
      "model_module_version": "1.2.0",
      "model_name": "LayoutModel",
      "state": {}
     },
     "ccffacf587a04a51913d2f8689b57243": {
      "model_module": "@quantum/ibm-q-lab-widgets",
      "model_module_version": "^1.0.3",
      "model_name": "CircuitComposerModel",
      "state": {
       "_model_module_version": "^1.0.3",
       "_view_module_version": "^1.0.3",
       "circuit": "\"OPENQASM 2.0;\\ninclude \\\"qelib1.inc\\\";\\n\\nqreg q[3];\\ncreg c[3];\\n\\n\"",
       "editable": true,
       "layout": "IPY_MODEL_97feacf7943445958e51757d6e21a1ab",
       "qiskit_code_cell_index": -1
      }
     },
     "e937851dbe1d43c6a8033e4244137fd5": {
      "model_module": "@quantum/ibm-q-lab-widgets",
      "model_module_version": "^1.0.3",
      "model_name": "CircuitComposerModel",
      "state": {
       "_model_module_version": "^1.0.3",
       "_view_module_version": "^1.0.3",
       "circuit": "\"OPENQASM 2.0;\\ninclude \\\"qelib1.inc\\\";\\n\\nqreg q[3];\\ncreg c[3];\\n\\nrzz(pi/2) q[1],q[2];\\ns q[1];\"",
       "editable": true,
       "layout": "IPY_MODEL_ffd48465bcac48a199d4bdf1b02c74c6",
       "qiskit_code_cell_index": 2
      }
     },
     "f13a1decea7b437ead34ec2a9e99026f": {
      "model_module": "@jupyter-widgets/base",
      "model_module_version": "1.2.0",
      "model_name": "LayoutModel",
      "state": {}
     },
     "f3eda7142c934401bcc1565ad589f694": {
      "model_module": "@quantum/ibm-q-lab-widgets",
      "model_module_version": "^1.0.3",
      "model_name": "CircuitComposerModel",
      "state": {
       "_model_module_version": "^1.0.3",
       "_view_module_version": "^1.0.3",
       "circuit": "\"OPENQASM 2.0;\\ninclude \\\"qelib1.inc\\\";\\n\\nqreg q[3];\\ncreg c[3];\\n\\nsxdg q[0];\\nt q[0];\\nh q[0];\\nx q[1];\\nswap q[1],q[2];\"",
       "editable": true,
       "layout": "IPY_MODEL_f8e9e10cc82d444ca06538869d8abd8d",
       "qiskit_code_cell_index": -1
      }
     },
     "f8e9e10cc82d444ca06538869d8abd8d": {
      "model_module": "@jupyter-widgets/base",
      "model_module_version": "1.2.0",
      "model_name": "LayoutModel",
      "state": {}
     },
     "fef94cdd5a054511b84f54f05880e78e": {
      "model_module": "@quantum/ibm-q-lab-widgets",
      "model_module_version": "^1.0.3",
      "model_name": "CircuitComposerModel",
      "state": {
       "_model_module_version": "^1.0.3",
       "_view_module_version": "^1.0.3",
       "circuit": "\"OPENQASM 2.0;\\ninclude \\\"qelib1.inc\\\";\\n\\nqreg q[3];\\ncreg c[3];\\n\\n\"",
       "editable": true,
       "layout": "IPY_MODEL_3e2ee3dfc2e24e178a84a470faa1a1b6",
       "qiskit_code_cell_index": -1
      }
     },
     "ffd48465bcac48a199d4bdf1b02c74c6": {
      "model_module": "@jupyter-widgets/base",
      "model_module_version": "1.2.0",
      "model_name": "LayoutModel",
      "state": {}
     }
    },
    "version_major": 2,
    "version_minor": 0
   }
  }
 },
 "nbformat": 4,
 "nbformat_minor": 5
}
